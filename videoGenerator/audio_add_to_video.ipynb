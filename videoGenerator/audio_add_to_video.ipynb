{
 "cells": [
  {
   "cell_type": "code",
   "execution_count": 1,
   "id": "0f35fbe1-5f5d-4791-a951-da70c8582e10",
   "metadata": {},
   "outputs": [
    {
     "ename": "ModuleNotFoundError",
     "evalue": "No module named 'moviepy'",
     "output_type": "error",
     "traceback": [
      "\u001b[0;31m---------------------------------------------------------------------------\u001b[0m",
      "\u001b[0;31mModuleNotFoundError\u001b[0m                       Traceback (most recent call last)",
      "Cell \u001b[0;32mIn[1], line 1\u001b[0m\n\u001b[0;32m----> 1\u001b[0m \u001b[38;5;28;01mfrom\u001b[39;00m\u001b[38;5;250m \u001b[39m\u001b[38;5;21;01mmoviepy\u001b[39;00m\u001b[38;5;21;01m.\u001b[39;00m\u001b[38;5;21;01meditor\u001b[39;00m\u001b[38;5;250m \u001b[39m\u001b[38;5;28;01mimport\u001b[39;00m VideoFileClip, AudioFileClip\n\u001b[1;32m      3\u001b[0m \u001b[38;5;66;03m# Load the video and audio files\u001b[39;00m\n\u001b[1;32m      4\u001b[0m video \u001b[38;5;241m=\u001b[39m VideoFileClip(\u001b[38;5;124m\"\u001b[39m\u001b[38;5;124mcat_walking.mp4\u001b[39m\u001b[38;5;124m\"\u001b[39m)\n",
      "\u001b[0;31mModuleNotFoundError\u001b[0m: No module named 'moviepy'"
     ]
    }
   ],
   "source": [
    "from moviepy.editor import VideoFileClip, AudioFileClip\n",
    "\n",
    "# Load the video and audio files\n",
    "video = VideoFileClip(\"cat_walking.mp4\")\n",
    "audio = AudioFileClip(\"Monkeys.mp3.mp3\")\n",
    "\n",
    "# Match audio duration to video\n",
    "audio = audio.subclip(0, video.duration).volumex(0.9)  # 30% volume\n",
    "\n",
    "# Set the new audio to the video\n",
    "final_video = video.set_audio(audio)\n",
    "\n",
    "# Export the final video\n",
    "final_video.write_videofile(\"output_with_music.mp4\", codec=\"libx264\", audio_codec=\"aac\")\n"
   ]
  }
 ],
 "metadata": {
  "kernelspec": {
   "display_name": "Python 3 (ipykernel)",
   "language": "python",
   "name": "python3"
  },
  "language_info": {
   "codemirror_mode": {
    "name": "ipython",
    "version": 3
   },
   "file_extension": ".py",
   "mimetype": "text/x-python",
   "name": "python",
   "nbconvert_exporter": "python",
   "pygments_lexer": "ipython3",
   "version": "3.11.13"
  }
 },
 "nbformat": 4,
 "nbformat_minor": 5
}
