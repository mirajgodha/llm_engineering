{
 "cells": [
  {
   "cell_type": "code",
   "execution_count": 11,
   "id": "9aaf83d7-76a0-4cad-bbb1-ae8196bd9517",
   "metadata": {},
   "outputs": [
    {
     "name": "stdout",
     "output_type": "stream",
     "text": [
      "\u001b[34mApplications\u001b[m\u001b[m\n",
      "\u001b[34mDesktop\u001b[m\u001b[m\n",
      "\u001b[34mDocuments\u001b[m\u001b[m\n",
      "\u001b[34mDownloads\u001b[m\u001b[m\n",
      "\u001b[34mDropbox\u001b[m\u001b[m\n",
      "\u001b[34mLibrary\u001b[m\u001b[m\n",
      "\u001b[34mMovies\u001b[m\u001b[m\n",
      "\u001b[34mMusic\u001b[m\u001b[m\n",
      "\u001b[34mMylio\u001b[m\u001b[m\n",
      "\u001b[35mOneDrive\u001b[m\u001b[m\n",
      "\u001b[35mOneDrive - Pitney Bowes\u001b[m\u001b[m\n",
      "\u001b[34mPictures\u001b[m\u001b[m\n",
      "\u001b[34mPublic\u001b[m\u001b[m\n",
      "Roopal herbal life doc25-1-2022-20.50.27.789.pdf\n",
      "\u001b[34mcode\u001b[m\u001b[m\n",
      "\u001b[34mopt\u001b[m\u001b[m\n",
      "pass.txt\n"
     ]
    }
   ],
   "source": [
    "!ls ~"
   ]
  },
  {
   "cell_type": "code",
   "execution_count": 6,
   "id": "8393bd6c-424d-4353-8eaa-7ff481f77a62",
   "metadata": {},
   "outputs": [],
   "source": [
    "import qrcode\n",
    "from qrcode.image.styledpil import StyledPilImage\n",
    "from qrcode.image.styles.colormasks import SolidFillColorMask\n",
    "\n",
    "# Convert hex to RGB\n",
    "#hex_color = \"5e17eb\"\n",
    "hex_color = \"1f48ff\"\n",
    "rgb_color = tuple(int(hex_color[i:i+2], 16) for i in (0, 2, 4))  # (143, 30, 174)\n",
    "\n",
    "# Updated message\n",
    "phone_number=\"+919818823045\"\n",
    "message = \"Quantum Root, Please register me for upcoming FREE Gen AI Session\"\n",
    "whatsapp_url = f\"https://wa.me/{phone_number.replace('+', '')}?text={message.replace(' ', '%20')}\"\n",
    "url = \"www.quantumroot.in\"\n",
    "\n",
    "# QR code generation with color\n",
    "qr = qrcode.QRCode(\n",
    "    version=1,\n",
    "    error_correction=qrcode.constants.ERROR_CORRECT_H,\n",
    "    box_size=10,\n",
    "    border=4,\n",
    ")\n",
    "qr.add_data(url)\n",
    "qr.make(fit=True)\n",
    "\n",
    "img = qr.make_image(\n",
    "    image_factory=StyledPilImage,\n",
    "    color_mask=SolidFillColorMask(back_color=(255, 255, 255), front_color=rgb_color)\n",
    ")\n",
    "\n",
    "# Save QR code to file\n",
    "qr_path_updated = \"./whatsapp_qr_robotics_20_discount.png\"\n",
    "img.save(qr_path_updated)"
   ]
  }
 ],
 "metadata": {
  "kernelspec": {
   "display_name": "llmenv",
   "language": "python",
   "name": "llmenv"
  },
  "language_info": {
   "codemirror_mode": {
    "name": "ipython",
    "version": 3
   },
   "file_extension": ".py",
   "mimetype": "text/x-python",
   "name": "python",
   "nbconvert_exporter": "python",
   "pygments_lexer": "ipython3",
   "version": "3.11.13"
  }
 },
 "nbformat": 4,
 "nbformat_minor": 5
}
