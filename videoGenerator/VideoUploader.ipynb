{
 "cells": [
  {
   "cell_type": "code",
   "execution_count": 2,
   "id": "d021681f-d236-4c5c-a4e8-d49b5b1516fa",
   "metadata": {},
   "outputs": [
    {
     "name": "stdout",
     "output_type": "stream",
     "text": [
      "MoviePy - Building video output_with_music.mp4.\n",
      "MoviePy - Writing audio in output_with_musicTEMP_MPY_wvf_snd.mp4\n"
     ]
    },
    {
     "name": "stderr",
     "output_type": "stream",
     "text": [
      "                                                                                                   "
     ]
    },
    {
     "name": "stdout",
     "output_type": "stream",
     "text": [
      "MoviePy - Done.\n",
      "MoviePy - Writing video output_with_music.mp4\n",
      "\n"
     ]
    },
    {
     "name": "stderr",
     "output_type": "stream",
     "text": [
      "                                                                                                   "
     ]
    },
    {
     "name": "stdout",
     "output_type": "stream",
     "text": [
      "MoviePy - Done !\n",
      "MoviePy - video ready output_with_music.mp4\n"
     ]
    }
   ],
   "source": [
    "from moviepy import VideoFileClip, AudioFileClip\n",
    "\n",
    "# Load the video and audio files\n",
    "video = VideoFileClip(\"cat_in_sunglasses.mp4\")\n",
    "audio = AudioFileClip(\"alexander.mp3\")\n",
    "\n",
    "# Get the duration of the video\n",
    "video_duration = video.duration\n",
    "\n",
    "# Adjust the audio duration to match the video duration\n",
    "if audio.duration < video_duration:\n",
    "    # If the audio is shorter, loop it to match the video's duration\n",
    "    audio = audio.fx(afx.audio_loop, duration=video_duration)\n",
    "elif audio.duration > video_duration:\n",
    "    # If the audio is longer, trim it to the video's duration\n",
    "    audio = audio.with_duration(video_duration)\n",
    "\n",
    "\n",
    "# Set the new audio to the video\n",
    "final_video = video.with_audio(audio)\n",
    "\n",
    "# Export the final video\n",
    "final_video.write_videofile(\"output_with_music.mp4\", codec=\"libx264\", audio_codec=\"aac\")\n"
   ]
  },
  {
   "cell_type": "code",
   "execution_count": 9,
   "id": "6ce63980-0d1a-4543-8c0a-d14a3e6727e9",
   "metadata": {},
   "outputs": [
    {
     "name": "stdout",
     "output_type": "stream",
     "text": [
      "authentication done\n",
      "✅ Uploaded: https://youtu.be/AltFDgdnFJk\n"
     ]
    }
   ],
   "source": [
    "import os\n",
    "import pickle\n",
    "import time\n",
    "import httplib2\n",
    "from google_auth_oauthlib.flow import InstalledAppFlow\n",
    "from googleapiclient.discovery import build\n",
    "from googleapiclient.http import MediaFileUpload, HttpRequest\n",
    "from google.auth.transport.requests import Request\n",
    "from google.oauth2.credentials import Credentials\n",
    "\n",
    "import googleapiclient.http\n",
    "\n",
    "# -----------------------------\n",
    "# CONFIG\n",
    "# -----------------------------\n",
    "VIDEO_FILE = \"generate_a_fun_and_engaging_youtube_video_title_fo_20250724_131554_with_audio.mp4\"\n",
    "VIDEO_TITLE = \"Cute Animal Heroes | Fun Kids Animation Ideas!\"\n",
    "VIDEO_DESCRIPTION = \"Discover 10 fun and realistic cartoon-style animal characters like a lion knight and owl librarian, brought to life in magical settings—from cheese moons to jelly oceans! Perfect for kids’ animations with watercolor, 3D, or cartoon styles. Get inspired with imaginative actions and whimsical worlds!\"\n",
    "VIDEO_TAGS = \"#KidsAnimation #CartoonAnimals #CreativeCharacters #AnimalCartoons #FunForKids #3DAnimation #WatercolorArt #MagicalWorlds #CuteCartoons #AnimationIdeas\"\n",
    "VIDEO_CATEGORY_ID = \"22\"  # People & Blogs\n",
    "VIDEO_PRIVACY = \"public\"\n",
    "CREDENTIALS_FILE = \"client_secrets.json\"\n",
    "TOKEN_FILE = \"token.pkl\"\n",
    "\n",
    "# -----------------------------\n",
    "# AUTHENTICATION\n",
    "# -----------------------------\n",
    "SCOPES = [\"https://www.googleapis.com/auth/youtube.upload\"]\n",
    "\n",
    "def authenticate_youtube():\n",
    "    credentials = None\n",
    "\n",
    "    if os.path.exists(TOKEN_FILE):\n",
    "        with open(TOKEN_FILE, \"rb\") as f:\n",
    "            credentials = pickle.load(f)\n",
    "\n",
    "    if not credentials or not credentials.valid:\n",
    "        if credentials and credentials.expired and credentials.refresh_token:\n",
    "            credentials.refresh(Request())\n",
    "        else:\n",
    "            flow = InstalledAppFlow.from_client_secrets_file(CREDENTIALS_FILE, SCOPES)\n",
    "            system = platform.system().lower()\n",
    "            if system == \"darwin\":  # macOS\n",
    "                credentials = flow.run_local_server(port=0)\n",
    "            else:  # Linux, Windows, etc.\n",
    "                credentials = flow.run_console()\n",
    "        with open(TOKEN_FILE, \"wb\") as f:\n",
    "            pickle.dump(credentials, f)\n",
    "\n",
    "    return build(\"youtube\", \"v3\", credentials=credentials)\n",
    "\n",
    "# -----------------------------\n",
    "# VIDEO UPLOAD\n",
    "# -----------------------------\n",
    "def upload_video(youtube):\n",
    "    media = MediaFileUpload(VIDEO_FILE, mimetype=\"video/mp4\", resumable=True)\n",
    "\n",
    "    request = youtube.videos().insert(\n",
    "        part=\"snippet,status\",\n",
    "        body={\n",
    "            \"snippet\": {\n",
    "                \"title\": VIDEO_TITLE,\n",
    "                \"description\": VIDEO_DESCRIPTION,\n",
    "                \"categoryId\": VIDEO_CATEGORY_ID,\n",
    "                \"tags\" : VIDEO_TAGS\n",
    "            },\n",
    "            \"status\": {\n",
    "                \"privacyStatus\": VIDEO_PRIVACY,\n",
    "            },\n",
    "        },\n",
    "        media_body=media\n",
    "    )\n",
    "\n",
    "    response = None\n",
    "    while response is None:\n",
    "        try:\n",
    "            status, response = request.next_chunk()\n",
    "            if status:\n",
    "                print(f\"Uploading: {int(status.progress() * 100)}%\")\n",
    "        except Exception as e:\n",
    "            print(f\"❌ Error during upload: {e}\")\n",
    "            break\n",
    "\n",
    "    if response:\n",
    "        print(f\"✅ Uploaded: https://youtu.be/{response['id']}\")\n",
    "\n",
    "\n",
    "\n",
    "# -----------------------------\n",
    "# RUN\n",
    "# -----------------------------\n",
    "if __name__ == \"__main__\":\n",
    "    youtube = authenticate_youtube()\n",
    "    print(\"authentication done\")\n",
    "    upload_video(youtube)\n"
   ]
  }
 ],
 "metadata": {
  "kernelspec": {
   "display_name": "llmenv",
   "language": "python",
   "name": "llmenv"
  },
  "language_info": {
   "codemirror_mode": {
    "name": "ipython",
    "version": 3
   },
   "file_extension": ".py",
   "mimetype": "text/x-python",
   "name": "python",
   "nbconvert_exporter": "python",
   "pygments_lexer": "ipython3",
   "version": "3.11.13"
  }
 },
 "nbformat": 4,
 "nbformat_minor": 5
}
